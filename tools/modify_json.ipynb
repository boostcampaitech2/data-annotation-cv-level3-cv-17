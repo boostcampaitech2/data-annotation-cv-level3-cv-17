{
 "cells": [
  {
   "cell_type": "code",
   "execution_count": null,
   "metadata": {},
   "outputs": [],
   "source": [
    "import json\n",
    "from pprint import pprint\n",
    "\n",
    "json_root = '../../input/data/annotation/ufo/annotation_copy.json'\n",
    "with open(json_root, \"r\") as f:\n",
    "    result = json.load(f)\n",
    "\n",
    "# pprint(result['images']['IMG_7215.jpeg'])\n",
    "# pprint(result['images']['IMG_7215.jpeg']['words'])\n",
    "# print(result['images']['1559458822576-3.jpg']['words'])\n",
    "\n",
    "result['images'].keys()\n"
   ]
  },
  {
   "cell_type": "code",
   "execution_count": 15,
   "metadata": {},
   "outputs": [
    {
     "name": "stdout",
     "output_type": "stream",
     "text": [
      "before = 1650\n",
      "after = 1541\n"
     ]
    }
   ],
   "source": [
    "txt_path = 'no_annotation.txt'\n",
    "with open(txt_path, \"r\") as f:\n",
    "    r = f.read()\n",
    "\n",
    "imgs = list(r.split())\n",
    "\n",
    "before = len(result['images'])\n",
    "print(f'before = {before}')\n",
    "for img in imgs:\n",
    "    if img in result['images']:\n",
    "        del result['images'][img]\n",
    "\n",
    "after = len(result['images'])\n",
    "print(f'after = {after}')"
   ]
  },
  {
   "cell_type": "code",
   "execution_count": 17,
   "metadata": {},
   "outputs": [],
   "source": [
    "new_json = 'annotation_new'\n",
    "with open(f'{new_json}.json', \"w\") as f:\n",
    "    json.dump(result, f)"
   ]
  },
  {
   "cell_type": "code",
   "execution_count": 18,
   "metadata": {},
   "outputs": [
    {
     "data": {
      "text/plain": [
       "1541"
      ]
     },
     "execution_count": 18,
     "metadata": {},
     "output_type": "execute_result"
    }
   ],
   "source": [
    "with open(f'{new_json}.json', \"r\") as f:\n",
    "    result2 = json.load(f)\n",
    "\n",
    "len(result2['images'])"
   ]
  },
  {
   "cell_type": "code",
   "execution_count": null,
   "metadata": {},
   "outputs": [],
   "source": []
  }
 ],
 "metadata": {
  "interpreter": {
   "hash": "d4d1e4263499bec80672ea0156c357c1ee493ec2b1c70f0acce89fc37c4a6abe"
  },
  "kernelspec": {
   "display_name": "Python 3.8.5 64-bit ('base': conda)",
   "language": "python",
   "name": "python3"
  },
  "language_info": {
   "codemirror_mode": {
    "name": "ipython",
    "version": 3
   },
   "file_extension": ".py",
   "mimetype": "text/x-python",
   "name": "python",
   "nbconvert_exporter": "python",
   "pygments_lexer": "ipython3",
   "version": "3.8.5"
  },
  "orig_nbformat": 4
 },
 "nbformat": 4,
 "nbformat_minor": 2
}
