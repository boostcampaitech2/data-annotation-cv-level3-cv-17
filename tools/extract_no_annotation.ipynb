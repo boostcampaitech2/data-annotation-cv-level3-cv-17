{
 "cells": [
  {
   "cell_type": "code",
   "execution_count": 2,
   "metadata": {},
   "outputs": [],
   "source": [
    "import json\n",
    "from pprint import pprint"
   ]
  },
  {
   "cell_type": "code",
   "execution_count": 26,
   "metadata": {},
   "outputs": [],
   "source": [
    "json_root = 'make_json/del_no_annotation.json'\n",
    "with open(json_root, \"r\") as f:\n",
    "    result = json.load(f)\n",
    "\n",
    "# points가 4가 아닌 케이스 출력\n",
    "for files in result['images']:\n",
    "    for k, v in result['images'][files]['words'].items():\n",
    "        if k:\n",
    "            if len(v['points']) != 4:\n",
    "                print(files)\n"
   ]
  },
  {
   "cell_type": "code",
   "execution_count": 9,
   "metadata": {},
   "outputs": [
    {
     "data": {
      "text/plain": [
       "dict_keys(['img_h', 'img_w', 'words', 'tags', 'license_tag'])"
      ]
     },
     "execution_count": 9,
     "metadata": {},
     "output_type": "execute_result"
    }
   ],
   "source": [
    "json_root = '../../input/data/ICDAR17_Korean/ufo/train.json'\n",
    "with open(json_root, \"r\") as f:\n",
    "    result = json.load(f)\n",
    "\n",
    "result['images']['img_4380.jpg'].keys()"
   ]
  },
  {
   "cell_type": "markdown",
   "metadata": {},
   "source": [
    "### no annotation 추출"
   ]
  },
  {
   "cell_type": "code",
   "execution_count": 4,
   "metadata": {},
   "outputs": [
    {
     "data": {
      "text/plain": [
       "109"
      ]
     },
     "execution_count": 4,
     "metadata": {},
     "output_type": "execute_result"
    }
   ],
   "source": [
    "no_labeling = []\n",
    "\n",
    "for img in result['images']:\n",
    "    if not result['images'][img]['words']:\n",
    "        no_labeling.append(img)\n",
    "\n",
    "len(no_labeling)"
   ]
  },
  {
   "cell_type": "markdown",
   "metadata": {},
   "source": [
    "### txt file 생성"
   ]
  },
  {
   "cell_type": "code",
   "execution_count": 5,
   "metadata": {},
   "outputs": [],
   "source": [
    "f = open(\"no_annotation.txt\", 'w')\n",
    "\n",
    "for i,v in enumerate(no_labeling):\n",
    "    f.write(v + ' ')\n",
    "f.close()"
   ]
  }
 ],
 "metadata": {
  "interpreter": {
   "hash": "31f2aee4e71d21fbe5cf8b01ff0e069b9275f58929596ceb00d14d90e3e16cd6"
  },
  "kernelspec": {
   "display_name": "Python 3.6.9 64-bit",
   "language": "python",
   "name": "python3"
  },
  "language_info": {
   "codemirror_mode": {
    "name": "ipython",
    "version": 3
   },
   "file_extension": ".py",
   "mimetype": "text/x-python",
   "name": "python",
   "nbconvert_exporter": "python",
   "pygments_lexer": "ipython3",
   "version": "3.8.5"
  },
  "orig_nbformat": 4
 },
 "nbformat": 4,
 "nbformat_minor": 2
}
