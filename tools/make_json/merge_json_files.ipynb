{
 "cells": [
  {
   "cell_type": "markdown",
   "metadata": {},
   "source": [
    "여러개의 json 파일을 받아 합칩니다.  \n",
    "\n",
    "단순히 합쳐주는 것이기 때문에 정제 작업을 미리 하셔야합니다. (이상한 이미지 제거, 이상한 박스 제거 등)"
   ]
  },
  {
   "cell_type": "code",
   "execution_count": 1,
   "metadata": {},
   "outputs": [],
   "source": [
    "import json\n",
    "import os"
   ]
  },
  {
   "cell_type": "code",
   "execution_count": 23,
   "metadata": {},
   "outputs": [],
   "source": [
    "#  json 파일 경로 설정\n",
    "data_root = '../../input/data/all'\n",
    "json_dir = 'ufo'\n",
    "json_name_list = ['ICDAR17_Korean', 'camper_filtered_del_odd_box', 'ICDAR2019_ArT']"
   ]
  },
  {
   "cell_type": "code",
   "execution_count": 24,
   "metadata": {},
   "outputs": [
    {
     "name": "stdout",
     "output_type": "stream",
     "text": [
      "ICDAR17_Korean: 536\n",
      "camper_filtered_del_odd_box: 1238\n",
      "ICDAR2019_ArT: 2500\n"
     ]
    }
   ],
   "source": [
    "json_data = {'images': {}}\n",
    "images_count = []\n",
    "\n",
    "# 목록에 있는 json 합쳐주기\n",
    "for jname in json_name_list:\n",
    "    json_path = os.path.join(data_root, json_dir, f'{jname}.json')\n",
    "    \n",
    "    with open(json_path, 'r', encoding='UTF-8') as f:\n",
    "        _json_data = json.load(f)\n",
    "    \n",
    "    images_count.append(len(_json_data['images']))\n",
    "    print(jname + ':', images_count[-1])\n",
    "    \n",
    "    json_data['images'].update(_json_data['images'])"
   ]
  },
  {
   "cell_type": "code",
   "execution_count": 25,
   "metadata": {},
   "outputs": [
    {
     "name": "stdout",
     "output_type": "stream",
     "text": [
      "image count after merge: 4274\n",
      "duplicated count: 0\n"
     ]
    }
   ],
   "source": [
    "# 합친 후 이미지는 몇개인지, 중복되는 이미지 명은 없었는지 확인합니다\n",
    "total_count = len(json_data['images'])\n",
    "\n",
    "print('image count after merge:', total_count)\n",
    "print('duplicated count:', sum(images_count) - total_count)"
   ]
  },
  {
   "cell_type": "code",
   "execution_count": 26,
   "metadata": {},
   "outputs": [
    {
     "data": {
      "text/plain": [
       "'../../input/data/all/ufo/ICDAR17_2019_camper.json'"
      ]
     },
     "execution_count": 26,
     "metadata": {},
     "output_type": "execute_result"
    }
   ],
   "source": [
    "# 저장할 파일명 설정\n",
    "new_json_name = 'ICDAR17_2019_camper'\n",
    "new_json_path = os.path.join(data_root, json_dir, f'{new_json_name}.json')\n",
    "new_json_path"
   ]
  },
  {
   "cell_type": "code",
   "execution_count": 27,
   "metadata": {},
   "outputs": [],
   "source": [
    "# 파일 저장\n",
    "with open(new_json_path, 'w', encoding='UTF-8') as f:\n",
    "    json.dump(json_data, f, indent=2)"
   ]
  },
  {
   "cell_type": "code",
   "execution_count": 29,
   "metadata": {},
   "outputs": [
    {
     "data": {
      "text/plain": [
       "True"
      ]
     },
     "execution_count": 29,
     "metadata": {},
     "output_type": "execute_result"
    }
   ],
   "source": [
    "# 잘 저장됐는지 확인\n",
    "with open(new_json_path, 'r', encoding='UTF-8') as f:\n",
    "    saved_data = json.load(f)\n",
    "\n",
    "len(saved_data['images']) == total_count"
   ]
  },
  {
   "cell_type": "code",
   "execution_count": null,
   "metadata": {},
   "outputs": [],
   "source": []
  }
 ],
 "metadata": {
  "interpreter": {
   "hash": "d4d1e4263499bec80672ea0156c357c1ee493ec2b1c70f0acce89fc37c4a6abe"
  },
  "kernelspec": {
   "display_name": "Python 3.8.5 64-bit ('base': conda)",
   "language": "python",
   "name": "python3"
  },
  "language_info": {
   "codemirror_mode": {
    "name": "ipython",
    "version": 3
   },
   "file_extension": ".py",
   "mimetype": "text/x-python",
   "name": "python",
   "nbconvert_exporter": "python",
   "pygments_lexer": "ipython3",
   "version": "3.8.5"
  },
  "orig_nbformat": 4
 },
 "nbformat": 4,
 "nbformat_minor": 2
}
