{
 "cells": [
  {
   "cell_type": "markdown",
   "metadata": {},
   "source": [
    "json 파일 하나를 받아서 점 개수가 홀수인 박스를 삭제해줍니다"
   ]
  },
  {
   "cell_type": "code",
   "execution_count": 23,
   "metadata": {},
   "outputs": [],
   "source": [
    "import json\n",
    "import os\n",
    "from collections import defaultdict"
   ]
  },
  {
   "cell_type": "code",
   "execution_count": 24,
   "metadata": {},
   "outputs": [
    {
     "data": {
      "text/plain": [
       "'../../input/data/all/ufo/camper_all.json'"
      ]
     },
     "execution_count": 24,
     "metadata": {},
     "output_type": "execute_result"
    }
   ],
   "source": [
    "#  json 파일 경로 설정\n",
    "data_root = '../../input/data/all'\n",
    "json_dir = 'ufo'\n",
    "json_name = 'camper_all'\n",
    "\n",
    "json_path = os.path.join(data_root, json_dir, f'{json_name}.json')\n",
    "json_path"
   ]
  },
  {
   "cell_type": "code",
   "execution_count": 25,
   "metadata": {},
   "outputs": [],
   "source": [
    "with open(json_path, 'r', encoding='UTF-8') as f:\n",
    "    json_data = json.load(f)"
   ]
  },
  {
   "cell_type": "code",
   "execution_count": 26,
   "metadata": {},
   "outputs": [
    {
     "name": "stdout",
     "output_type": "stream",
     "text": [
      "226 boxes deleted at 151 images\n"
     ]
    }
   ],
   "source": [
    "# 삭제한 박스 목록\n",
    "delete_dict = defaultdict(list)\n",
    "\n",
    "# 점 홀수개인 박스 삭제\n",
    "for img in json_data['images']:\n",
    "    words = json_data['images'][img]['words']\n",
    "\n",
    "    for box in list(words.keys()):        \n",
    "        if len(words[box]['points']) % 2 == 1:\n",
    "            words.pop(box)\n",
    "            delete_dict[img].append((words, box))\n",
    "\n",
    "print(f'{sum(list(map(lambda x: len(x[1]), delete_dict.items())))} boxes deleted at {len(delete_dict)} images')"
   ]
  },
  {
   "cell_type": "code",
   "execution_count": 27,
   "metadata": {},
   "outputs": [
    {
     "data": {
      "text/plain": [
       "'../../input/data/all/ufo/camper_all_del_odd_box.json'"
      ]
     },
     "execution_count": 27,
     "metadata": {},
     "output_type": "execute_result"
    }
   ],
   "source": [
    "# 저장할 파일명 설정\n",
    "new_json_name = 'camper_all_del_odd_box'\n",
    "new_json_path = os.path.join(data_root, json_dir, f'{new_json_name}.json')\n",
    "new_json_path"
   ]
  },
  {
   "cell_type": "code",
   "execution_count": 28,
   "metadata": {},
   "outputs": [],
   "source": [
    "# 파일 저장\n",
    "with open(new_json_path, 'w', encoding='UTF-8') as f:\n",
    "    json.dump(json_data, f, indent=2)"
   ]
  },
  {
   "cell_type": "code",
   "execution_count": null,
   "metadata": {},
   "outputs": [],
   "source": []
  }
 ],
 "metadata": {
  "interpreter": {
   "hash": "d4d1e4263499bec80672ea0156c357c1ee493ec2b1c70f0acce89fc37c4a6abe"
  },
  "kernelspec": {
   "display_name": "Python 3.8.5 64-bit ('base': conda)",
   "language": "python",
   "name": "python3"
  },
  "language_info": {
   "codemirror_mode": {
    "name": "ipython",
    "version": 3
   },
   "file_extension": ".py",
   "mimetype": "text/x-python",
   "name": "python",
   "nbconvert_exporter": "python",
   "pygments_lexer": "ipython3",
   "version": "3.8.5"
  },
  "orig_nbformat": 4
 },
 "nbformat": 4,
 "nbformat_minor": 2
}
