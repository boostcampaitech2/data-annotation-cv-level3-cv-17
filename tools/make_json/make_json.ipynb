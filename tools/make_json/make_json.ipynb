{
 "cells": [
  {
   "cell_type": "code",
   "execution_count": 1,
   "metadata": {},
   "outputs": [],
   "source": [
    "import json\n",
    "import os"
   ]
  },
  {
   "cell_type": "code",
   "execution_count": 2,
   "metadata": {},
   "outputs": [],
   "source": [
    "jPath_With_Odd_Points = 'json path 1'   # 홀수 점이 있는 데이터\n",
    "jPath_With_Strange = 'json path 2'      # 이상한 이미지가 있는 데이터\n",
    "jPath_To_Add = 'json path 3'            # 추가할 데이터\n"
   ]
  },
  {
   "cell_type": "code",
   "execution_count": 3,
   "metadata": {},
   "outputs": [],
   "source": [
    "with open(jPath_With_Odd_Points, 'r', encoding='UTF-8') as f:\n",
    "    jData_With_Odd_Points = json.load(f)\n",
    "with open(jPath_With_Strange, 'r', encoding='UTF-8') as f:\n",
    "    jData_With_Strange = json.load(f)\n",
    "with open(jPath_To_Add, 'r', encoding='UTF-8') as f:\n",
    "    jData_To_Add = json.load(f)"
   ]
  },
  {
   "cell_type": "code",
   "execution_count": 7,
   "metadata": {},
   "outputs": [
    {
     "name": "stdout",
     "output_type": "stream",
     "text": [
      "1761\n",
      "2699\n",
      "4345\n"
     ]
    }
   ],
   "source": [
    "print((len(jData_With_Odd_Points['images'])))\n",
    "print((len(jData_With_Strange['images'])))\n",
    "print((len(jData_To_Add['images'])))"
   ]
  },
  {
   "cell_type": "code",
   "execution_count": null,
   "metadata": {},
   "outputs": [],
   "source": [
    "# 홀수 점 제거\n",
    "for fname in jData_With_Odd_Points['images']:\n",
    "    words = jData_With_Odd_Points['images'][fname]['words']\n",
    "    for k, v in tuple(words.items()):\n",
    "        if len(v['points'])%2==1:\n",
    "            print(v['points'])\n",
    "            jData_With_Odd_Points['images'][fname]['words'].pop(k)"
   ]
  },
  {
   "cell_type": "code",
   "execution_count": null,
   "metadata": {},
   "outputs": [],
   "source": [
    "# strange Image 제거\n",
    "if os.path.exists('StrangeImgList.txt'):\n",
    "    with open('StrangeImgList.txt', 'r', encoding='UTF-8') as f:\n",
    "        strange_data = f.readline()\n",
    "        if len(strange_data) >= 1: # 저장된 요소가 있다면\n",
    "            read_data = strange_data.split(',')\n",
    "\n",
    "print(len(jData_With_Strange['images']))\n",
    "for fname in read_data:\n",
    "    try:\n",
    "        jData_With_Strange['images'].pop(fname)\n",
    "    except:\n",
    "        pass\n",
    "print(len(jData_With_Strange['images']))"
   ]
  },
  {
   "cell_type": "code",
   "execution_count": 10,
   "metadata": {},
   "outputs": [
    {
     "name": "stdout",
     "output_type": "stream",
     "text": [
      "6106\n"
     ]
    }
   ],
   "source": [
    "# json 추가 후 저장\n",
    "jPath_With_Odd_Points['images'].update(jData_To_Add['images'])\n",
    "print(len(jPath_With_Odd_Points['images']))\n",
    "\n",
    "with open('dataset+2019.json','w',encoding='UTF-8') as f:\n",
    "    json.dump(jPath_With_Odd_Points,f,indent=2)"
   ]
  }
 ],
 "metadata": {
  "interpreter": {
   "hash": "d4d1e4263499bec80672ea0156c357c1ee493ec2b1c70f0acce89fc37c4a6abe"
  },
  "kernelspec": {
   "display_name": "Python 3.8.5 64-bit ('base': conda)",
   "language": "python",
   "name": "python3"
  },
  "language_info": {
   "codemirror_mode": {
    "name": "ipython",
    "version": 3
   },
   "file_extension": ".py",
   "mimetype": "text/x-python",
   "name": "python",
   "nbconvert_exporter": "python",
   "pygments_lexer": "ipython3",
   "version": "3.8.5"
  },
  "orig_nbformat": 4
 },
 "nbformat": 4,
 "nbformat_minor": 2
}
