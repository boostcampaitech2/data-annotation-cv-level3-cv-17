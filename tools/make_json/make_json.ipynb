{
 "cells": [
  {
   "cell_type": "code",
   "execution_count": 1,
   "metadata": {},
   "outputs": [],
   "source": [
    "import json\n",
    "import os"
   ]
  },
  {
   "cell_type": "code",
   "execution_count": 2,
   "metadata": {},
   "outputs": [],
   "source": [
    "jPath_dataset = 'dataset/ufo/train.json'\n",
    "jPath_korean = 'korean_additional/ufo.json'\n",
    "jPath_2019 = 'ICDAR2019_ArT/ufo.json'\n"
   ]
  },
  {
   "cell_type": "code",
   "execution_count": 3,
   "metadata": {},
   "outputs": [],
   "source": [
    "with open(jPath_dataset, 'r', encoding='UTF-8') as f:\n",
    "    jData_dataset = json.load(f)\n",
    "with open(jPath_korean, 'r', encoding='UTF-8') as f:\n",
    "    jData_korean = json.load(f)\n",
    "with open(jPath_2019, 'r', encoding='UTF-8') as f:\n",
    "    jData_2019 = json.load(f)"
   ]
  },
  {
   "cell_type": "code",
   "execution_count": 7,
   "metadata": {},
   "outputs": [
    {
     "name": "stdout",
     "output_type": "stream",
     "text": [
      "1761\n",
      "2699\n",
      "4345\n"
     ]
    }
   ],
   "source": [
    "print((len(jData_dataset['images'])))\n",
    "print((len(jData_korean['images'])))\n",
    "print((len(jData_2019['images'])))"
   ]
  },
  {
   "cell_type": "code",
   "execution_count": 9,
   "metadata": {},
   "outputs": [
    {
     "name": "stdout",
     "output_type": "stream",
     "text": [
      "[[497, 566], [559, 568], [580, 590], [577, 628], [487, 632]]\n",
      "[[84, 35], [218, 32], [415, 33], [428, 62], [421, 72], [221, 74], [82, 74]]\n",
      "[[104, 52], [122, 76], [152, 81], [173, 53], [187, 63], [166, 94], [133, 98], [103, 78], [91, 53]]\n",
      "[[268, 3], [387, 17], [404, 157]]\n",
      "[[386, 471], [498, 419], [507, 483], [446, 497], [389, 497]]\n",
      "[[869, 589], [950, 582], [974, 612], [938, 625], [863, 627]]\n",
      "[[306, 141], [346, 141], [398, 157], [401, 172], [311, 168]]\n",
      "[[401, 244], [421, 242], [420, 254]]\n",
      "[[539, 246], [554, 246], [554, 257]]\n",
      "[[797, 515], [853, 494], [904, 492], [971, 519], [960, 529], [912, 510], [866, 508]]\n",
      "[[2807, 1049], [2849, 1052], [2852, 1085]]\n",
      "[[3023, 1916], [3251, 1913], [3242, 1949]]\n",
      "[[552, 12], [554, 36], [620, 146], [626, 109], [581, 7]]\n",
      "[[418, 451], [416, 418], [396, 417], [392, 438], [386, 449]]\n",
      "[[1043, 1471], [1619, 1447], [1676, 1930], [1028, 1933], [1034, 1927]]\n",
      "[[513, 224], [625, 234], [514, 253]]\n",
      "[[401, 28], [463, 67], [551, 70], [721, 52], [725, 25]]\n",
      "[[319, 405], [354, 399], [352, 411], [321, 420], [314, 421]]\n",
      "[[857, 348], [1078, 352], [1086, 354], [1084, 367], [853, 367]]\n",
      "[[606, 697]]\n",
      "[[230, 312], [161, 367], [140, 458], [174, 549], [267, 596], [348, 576], [342, 562], [289, 574], [202, 536], [167, 487], [158, 414], [184, 361], [246, 320]]\n",
      "[[452, 600], [455, 536], [427, 526], [400, 529], [400, 591]]\n",
      "[[1305, 360], [1311, 435], [1291, 475], [1272, 432], [1260, 388]]\n"
     ]
    }
   ],
   "source": [
    "for fname in jData_2019['images']:\n",
    "    words = jData_2019['images'][fname]['words']\n",
    "    for k, v in tuple(words.items()):\n",
    "        if len(v['points'])%2==1:\n",
    "            print(v['points'])\n",
    "            jData_2019['images'][fname]['words'].pop(k)"
   ]
  },
  {
   "cell_type": "code",
   "execution_count": 10,
   "metadata": {},
   "outputs": [
    {
     "name": "stdout",
     "output_type": "stream",
     "text": [
      "6106\n"
     ]
    }
   ],
   "source": [
    "jData_dataset['images'].update(jData_2019['images'])\n",
    "print(len(jData_dataset['images']))\n",
    "\n",
    "with open('dataset+2019.json','w',encoding='UTF-8') as f:\n",
    "    json.dump(jData_dataset,f,indent=2)"
   ]
  }
 ],
 "metadata": {
  "interpreter": {
   "hash": "d4d1e4263499bec80672ea0156c357c1ee493ec2b1c70f0acce89fc37c4a6abe"
  },
  "kernelspec": {
   "display_name": "Python 3.8.5 64-bit ('base': conda)",
   "language": "python",
   "name": "python3"
  },
  "language_info": {
   "codemirror_mode": {
    "name": "ipython",
    "version": 3
   },
   "file_extension": ".py",
   "mimetype": "text/x-python",
   "name": "python",
   "nbconvert_exporter": "python",
   "pygments_lexer": "ipython3",
   "version": "3.8.5"
  },
  "orig_nbformat": 4
 },
 "nbformat": 4,
 "nbformat_minor": 2
}
