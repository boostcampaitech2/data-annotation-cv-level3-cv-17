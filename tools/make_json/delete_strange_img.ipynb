{
 "cells": [
  {
   "cell_type": "markdown",
   "metadata": {},
   "source": [
    "json 파일 하나를 받아서 텍스트 파일에 있는 이미지들을 제거 후 저장하는 코드입니다.  \n",
    "\n",
    "※ 박스의 점 개수가 이상한 경우는 따로 처리해주지 않습니다. (ex. 점 개수가 홀수, 4 초과 등)"
   ]
  },
  {
   "cell_type": "code",
   "execution_count": 24,
   "metadata": {},
   "outputs": [],
   "source": [
    "import json\n",
    "import os"
   ]
  },
  {
   "cell_type": "code",
   "execution_count": 25,
   "metadata": {},
   "outputs": [
    {
     "data": {
      "text/plain": [
       "'../../input/data/all/ufo/camper_all.json'"
      ]
     },
     "execution_count": 25,
     "metadata": {},
     "output_type": "execute_result"
    }
   ],
   "source": [
    "#  json 파일 경로 설정\n",
    "data_root = '../../input/data/all'\n",
    "json_dir = 'ufo'\n",
    "json_name = 'camper_all'\n",
    "\n",
    "json_path = os.path.join(data_root, json_dir, f'{json_name}.json')\n",
    "json_path"
   ]
  },
  {
   "cell_type": "code",
   "execution_count": 26,
   "metadata": {},
   "outputs": [],
   "source": [
    "with open(json_path, 'r', encoding='UTF-8') as f:\n",
    "    json_data = json.load(f)"
   ]
  },
  {
   "cell_type": "code",
   "execution_count": 27,
   "metadata": {},
   "outputs": [
    {
     "name": "stdout",
     "output_type": "stream",
     "text": [
      "dict_keys(['images'])\n"
     ]
    }
   ],
   "source": [
    "# json 키 확인\n",
    "print(json_data.keys())"
   ]
  },
  {
   "cell_type": "code",
   "execution_count": 28,
   "metadata": {},
   "outputs": [
    {
     "data": {
      "text/plain": [
       "1650"
      ]
     },
     "execution_count": 28,
     "metadata": {},
     "output_type": "execute_result"
    }
   ],
   "source": [
    "# 이미지 수 확인\n",
    "before = len(json_data['images'])\n",
    "before"
   ]
  },
  {
   "cell_type": "code",
   "execution_count": 29,
   "metadata": {},
   "outputs": [],
   "source": [
    "# 제거할 이미지 목록 경로 설정\n",
    "strange_list_path = '../../StrangeImgList.txt'"
   ]
  },
  {
   "cell_type": "code",
   "execution_count": 30,
   "metadata": {},
   "outputs": [],
   "source": [
    "with open(strange_list_path, 'r', encoding='UTF-8') as f:\n",
    "    strange_data = f.read().split(',')"
   ]
  },
  {
   "cell_type": "code",
   "execution_count": 31,
   "metadata": {},
   "outputs": [
    {
     "data": {
      "text/plain": [
       "471"
      ]
     },
     "execution_count": 31,
     "metadata": {},
     "output_type": "execute_result"
    }
   ],
   "source": [
    "# 제거할 이미지 수\n",
    "delete = len(strange_data)\n",
    "delete"
   ]
  },
  {
   "cell_type": "code",
   "execution_count": 32,
   "metadata": {},
   "outputs": [],
   "source": [
    "missing = []\n",
    "\n",
    "# 이미지 제거\n",
    "for sd in strange_data:\n",
    "    if json_data['images'].get(sd):\n",
    "        json_data['images'].pop(sd)\n",
    "    else:\n",
    "        missing.append(sd)"
   ]
  },
  {
   "cell_type": "code",
   "execution_count": 33,
   "metadata": {},
   "outputs": [
    {
     "data": {
      "text/plain": [
       "1238"
      ]
     },
     "execution_count": 33,
     "metadata": {},
     "output_type": "execute_result"
    }
   ],
   "source": [
    "# 제거 후 이미지 수 확인\n",
    "after = len(json_data['images'])\n",
    "after"
   ]
  },
  {
   "cell_type": "code",
   "execution_count": 34,
   "metadata": {},
   "outputs": [
    {
     "name": "stdout",
     "output_type": "stream",
     "text": [
      "File not found: 59\n",
      "['20210919_132032.jpeg', '20210919_140345.jpg', '20210919_151349.jpg', '20210919_152720.jpg', '20210919_152755.jpg', '20210920_113427.jpg', '20210923_125212.jpeg', '20210925_134607.jpg', '20210926_103248.jpg', '20210926_103302.jpg', '20210926_104010.jpg', '20210926_104838.jpg', '20210926_105013.jpg', '20210926_140004.jpg', '20210926_142251.jpg', '20210926_143402.jpg', '20210926_143425.jpg', '20210926_143430.jpg', '20210926_151655.jpg', '20210926_152833.jpg', '20210926_153205.jpg', '20210926_153801.jpg', '20210926_153825.jpg', '20210919_131232.jpg', '20210919_131535.jpg', '20210919_151055.jpg', '20210919_151110.jpg', '20210919_165531.jpg', '20210921_205616.jpg', '20210922_140844.jpg', '20210925_133737.jpg', '20210925_135728.jpg', '20210925_140229.jpg', '20210925_141042.jpg', '20210925_141211.jpg', '20210926_103821.jpg', '20210926_103950.jpg', '20210926_105620.jpg', '20210926_142536.jpg', '20210926_143111.jpg', '20210926_152608.jpg', '20210926_154224.jpg', '20210918_224846.jpg', '20210922_164734.jpg', '20210925_134038.jpg', '20210925_134515.jpg', '20210925_134831.jpg', '20210926_134304.jpg', '20210926_142635.jpg', '20210919_150912.jpg', '20210919_152401.jpg', '20210919_152825.jpg', '20210920_113308.jpg', '20210925_134539.jpg', '20210926_103934.jpg', '20210926_142611.jpg', '20210926_143125.jpg', '20210926_143153.jpg', '20210926_152234.jpg']\n"
     ]
    }
   ],
   "source": [
    "# 목록의 이미지가 모두 삭제되었는지 확인\n",
    "if before - delete == after:\n",
    "    print('complete')\n",
    "else:\n",
    "    print('File not found:', len(missing))\n",
    "    print(missing)"
   ]
  },
  {
   "cell_type": "code",
   "execution_count": 35,
   "metadata": {},
   "outputs": [
    {
     "data": {
      "text/plain": [
       "'../../input/data/all/ufo/camper_filtered.json'"
      ]
     },
     "execution_count": 35,
     "metadata": {},
     "output_type": "execute_result"
    }
   ],
   "source": [
    "# 저장할 파일명 설정\n",
    "new_json_name = 'camper_filtered'\n",
    "new_json_path = os.path.join(data_root, json_dir, f'{new_json_name}.json')\n",
    "new_json_path"
   ]
  },
  {
   "cell_type": "code",
   "execution_count": 36,
   "metadata": {},
   "outputs": [],
   "source": [
    "# 파일 저장\n",
    "with open(new_json_path, 'w', encoding='UTF-8') as f:\n",
    "    json.dump(json_data, f, indent=2)"
   ]
  },
  {
   "cell_type": "code",
   "execution_count": 37,
   "metadata": {},
   "outputs": [
    {
     "data": {
      "text/plain": [
       "True"
      ]
     },
     "execution_count": 37,
     "metadata": {},
     "output_type": "execute_result"
    }
   ],
   "source": [
    "# 잘 저장됐는지 확인\n",
    "with open(new_json_path, 'r', encoding='UTF-8') as f:\n",
    "    saved_data = json.load(f)\n",
    "\n",
    "len(saved_data['images']) == after"
   ]
  },
  {
   "cell_type": "code",
   "execution_count": null,
   "metadata": {},
   "outputs": [],
   "source": []
  }
 ],
 "metadata": {
  "interpreter": {
   "hash": "d4d1e4263499bec80672ea0156c357c1ee493ec2b1c70f0acce89fc37c4a6abe"
  },
  "kernelspec": {
   "display_name": "Python 3.8.5 64-bit ('base': conda)",
   "language": "python",
   "name": "python3"
  },
  "language_info": {
   "codemirror_mode": {
    "name": "ipython",
    "version": 3
   },
   "file_extension": ".py",
   "mimetype": "text/x-python",
   "name": "python",
   "nbconvert_exporter": "python",
   "pygments_lexer": "ipython3",
   "version": "3.8.5"
  },
  "orig_nbformat": 4
 },
 "nbformat": 4,
 "nbformat_minor": 2
}
